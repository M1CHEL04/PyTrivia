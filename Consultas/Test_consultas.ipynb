{
 "cells": [
  {
   "cell_type": "markdown",
   "metadata": {},
   "source": [
    "### Importacion de las funciones generales\n",
    "\n",
    "Esto se hace para no repetir codigo y utilizar las funciones creadas anteriormente."
   ]
  },
  {
   "cell_type": "code",
   "execution_count": 1,
   "metadata": {},
   "outputs": [],
   "source": [
    "import sys\n",
    "import os \n",
    "sys.path.append(os.path.abspath('..'))\n",
    "import procesamiento.funciones_generales as fg"
   ]
  },
  {
   "cell_type": "markdown",
   "metadata": {},
   "source": [
    "### Importacion de las funciones dedicadas para la resolucion de los diferentes incisos"
   ]
  },
  {
   "cell_type": "code",
   "execution_count": 2,
   "metadata": {},
   "outputs": [],
   "source": [
    "import Tools_inciso_1_2_3 as tools1\n",
    "import Tools_inciso_4_5_6 as tools2\n",
    "import Tools_inciso_7_8_9 as tools3\n",
    "import Tools_inciso_10_11_12 as tools4"
   ]
  },
  {
   "cell_type": "markdown",
   "metadata": {},
   "source": [
    "## __Apertura de datasets__\n",
    "\n",
    "* Para poder abrir los archivos de una forma correcta es necesario importar la libreria pathlib. "
   ]
  },
  {
   "cell_type": "code",
   "execution_count": 3,
   "metadata": {},
   "outputs": [],
   "source": [
    "from pathlib import Path"
   ]
  },
  {
   "cell_type": "markdown",
   "metadata": {},
   "source": [
    "#### __dataset de aeropuertos__"
   ]
  },
  {
   "cell_type": "code",
   "execution_count": 4,
   "metadata": {},
   "outputs": [],
   "source": [
    "airport_path= Path('..')/\"Datasets_Modificados\"/\"ar-airports_modificado.csv\"\n",
    "airport_header=fg.leer_dataset(airport_path)[0]\n",
    "airport_data=fg.leer_dataset(airport_path)[1]"
   ]
  },
  {
   "cell_type": "markdown",
   "metadata": {},
   "source": [
    "#### __dataset de lagos__"
   ]
  },
  {
   "cell_type": "code",
   "execution_count": 5,
   "metadata": {},
   "outputs": [],
   "source": [
    "lakes_path= Path('..')/\"Datasets_Modificados\"/\"lagos_arg_MODIF.csv\"\n",
    "lake_header= fg.leer_dataset(lakes_path)[0]\n",
    "lake_data= fg.leer_dataset(lakes_path)[1]"
   ]
  },
  {
   "cell_type": "markdown",
   "metadata": {},
   "source": [
    "#### __dataset de conectividad__"
   ]
  },
  {
   "cell_type": "code",
   "execution_count": 6,
   "metadata": {},
   "outputs": [],
   "source": [
    "connectivity_path=Path('..')/\"Datasets_Modificados\"/\"Conectividad_Internet_modificado.csv\"\n",
    "connectivity_header= fg.leer_dataset(connectivity_path)[0]\n",
    "connectivity_data= fg.leer_dataset(connectivity_path)[1]"
   ]
  },
  {
   "cell_type": "markdown",
   "metadata": {},
   "source": [
    "#### __Dataset censo__\n"
   ]
  },
  {
   "cell_type": "code",
   "execution_count": null,
   "metadata": {},
   "outputs": [],
   "source": [
    "census_path= Path('..')/\"Datasets_Modificados\"/\"c2022_tp_c_resumen_adaptadoMODIF.csv\"\n",
    "census_header= fg.leer_dataset(census_path)[0]\n",
    "census_data= fg.leer_dataset(census_path)[1]"
   ]
  },
  {
   "cell_type": "markdown",
   "metadata": {},
   "source": [
    "#### __dataset ciudades Argentinas__"
   ]
  },
  {
   "cell_type": "code",
   "execution_count": null,
   "metadata": {},
   "outputs": [],
   "source": [
    "cities_path = Path('..')/\"Datasets_Modificados\"/\"ar_cities_MODIF.csv\"\n",
    "cities_header = fg.leer_dataset(cities_path)[0]\n",
    "cities_data = fg.leer_dataset(cities_path)[1]"
   ]
  },
  {
   "cell_type": "markdown",
   "metadata": {},
   "source": [
    "### __Test inciso 1:__ \n",
    "* Los diferentes tipos de aeropuertos según la columna __'type'__."
   ]
  },
  {
   "cell_type": "code",
   "execution_count": null,
   "metadata": {},
   "outputs": [],
   "source": [
    "airports_type=tools1.list_airport_types(airport_header,airport_data)\n",
    "print(airports_type)"
   ]
  },
  {
   "cell_type": "markdown",
   "metadata": {},
   "source": [
    "### __Test inciso 2:__ \n",
    "* Los aeropuertos de una elevación, (bajo, medio, alto) cuya especificación se permita\n",
    "modificar fácilmente, evaluando la columna creada __'elevation_name'__.\n"
   ]
  },
  {
   "cell_type": "code",
   "execution_count": null,
   "metadata": {},
   "outputs": [],
   "source": [
    "airports_entered_name=tools1.enter_elevation_name(airport_header,airport_data)\n",
    "print(airports_entered_name)"
   ]
  },
  {
   "cell_type": "markdown",
   "metadata": {},
   "source": [
    "### __Test inciso 3:__\n",
    "* Los aeropuertos que tienen una mayor o menor elevación con respecto al valor\n",
    "numérico dado."
   ]
  },
  {
   "cell_type": "code",
   "execution_count": null,
   "metadata": {},
   "outputs": [],
   "source": [
    "airports_list=tools1.enter_elevation_num(airport_header,airport_data)\n",
    "print(airports_list)"
   ]
  },
  {
   "cell_type": "markdown",
   "metadata": {},
   "source": [
    "### __Test inciso 4:__\n",
    "* Los aeropuertos, lagos y tipo de conectividad en provincias con población mayor o\n",
    "menor a un valor que se pueda especificar fácilmente.\n"
   ]
  },
  {
   "cell_type": "markdown",
   "metadata": {},
   "source": [
    "Retorna una lista con los nombres de las provincias a procesar."
   ]
  },
  {
   "cell_type": "code",
   "execution_count": null,
   "metadata": {},
   "outputs": [],
   "source": [
    "list_provs = tools2.nom_prov(census_header,census_data)\n",
    "print(list_provs)"
   ]
  },
  {
   "cell_type": "markdown",
   "metadata": {},
   "source": [
    "* Teniendo la lista de provincias a procesar, obtengo los aeropuertos que se encuentran en dichas provincias."
   ]
  },
  {
   "cell_type": "code",
   "execution_count": null,
   "metadata": {},
   "outputs": [],
   "source": [
    "list_airports = tools2.nom_airports(airport_header,airport_data,list_provs)\n",
    "print(list_airports)"
   ]
  },
  {
   "cell_type": "markdown",
   "metadata": {},
   "source": [
    "* Teniendo la lista de provincias a procesar, obtengo los lagos que se encuentran en dichas provincias."
   ]
  },
  {
   "cell_type": "code",
   "execution_count": null,
   "metadata": {},
   "outputs": [],
   "source": [
    "list_lakes = tools2.nom_lakes(lake_header,lake_data,list_provs)\n",
    "print(list_lakes)"
   ]
  },
  {
   "cell_type": "markdown",
   "metadata": {},
   "source": [
    "* Teniendo la lista de provincias a procesar, obtengo los tipos de conectividad que posee cada provincia de la lista. "
   ]
  },
  {
   "cell_type": "code",
   "execution_count": null,
   "metadata": {},
   "outputs": [],
   "source": [
    "dict_types_conection = tools2.types_conection(connectivity_header,connectivity_data,list_provs)\n",
    "\n",
    "for provincia, tipos_conectividad in dict_types_conection.items():\n",
    "    print(f\"{provincia.upper()}: \")\n",
    "    for tipo in tipos_conectividad:\n",
    "        print(tipo.lower())"
   ]
  },
  {
   "cell_type": "markdown",
   "metadata": {},
   "source": [
    "### __Test inciso 5:__\n",
    "*  Los aeropuertos que se encuentran en las capitales de cada provincia."
   ]
  },
  {
   "cell_type": "code",
   "execution_count": null,
   "metadata": {},
   "outputs": [],
   "source": [
    "list_names_airports = tools2.obtener_airports_capitales(cities_header,cities_data,airport_header,airport_data)\n",
    "print(list_names_airports)"
   ]
  },
  {
   "cell_type": "markdown",
   "metadata": {},
   "source": [
    "### __Test inciso 6:__\n",
    "*  Los Lagos de una superficie según la columna 'Sup Tamaño' donde el\n",
    "criterio (chico, medio, grande) se puede indicar fácilmente."
   ]
  },
  {
   "cell_type": "code",
   "execution_count": null,
   "metadata": {},
   "outputs": [],
   "source": [
    "list_names_lakes = tools2.lakes_sup(lake_header,lake_data)\n",
    "print(list_names_lakes)"
   ]
  },
  {
   "cell_type": "markdown",
   "metadata": {},
   "source": [
    "### __Test inciso 7:__\n",
    "* Listar las 5 Jurisdicciones con mayor porcentaje de población en situación de calle.\n",
    "Mostrar el nombre de la jurisdicción y el porcentaje."
   ]
  },
  {
   "cell_type": "code",
   "execution_count": null,
   "metadata": {},
   "outputs": [],
   "source": [
    "lista_jurisdicciones=tools3.jurisdicciones_situciacion_calle(census_header,census_data)\n",
    "for i in lista_jurisdicciones:\n",
    "    print(f\"Nombre de la jurisdiccion: {i[0]} - Porcentaje:{i[1]:.2f}%\")"
   ]
  },
  {
   "cell_type": "markdown",
   "metadata": {},
   "source": [
    "### __Test inciso 8:__\n",
    "* Obtener la jurisdicción donde la brecha entre las poblaciones diferenciadas según\n",
    "sexo registrado al nacer es mayor. Informar nombra de Jurisdicción y cantidad de la\n",
    "brecha poblacional"
   ]
  },
  {
   "cell_type": "code",
   "execution_count": null,
   "metadata": {},
   "outputs": [],
   "source": [
    "nombre_jurisdiccion,cantidad_brecha=tools3.obtener_jurisdiccion(census_header,census_data)\n",
    "print(f\"El nombre de la jurisdiccion donde la brecha entre las poblaciones diferenciadas\\nsegun sexo registrado al nacer es mayor es {nombre_jurisdiccion} y la brecha es {cantidad_brecha}.\")"
   ]
  },
  {
   "cell_type": "markdown",
   "metadata": {},
   "source": [
    "### __Test inciso 9:__\n",
    "* Mostrar los diferentes tipos de conectividades."
   ]
  },
  {
   "cell_type": "code",
   "execution_count": null,
   "metadata": {},
   "outputs": [],
   "source": [
    "tipos_conectividades=tools3.mostrar_tipos_conectividades(connectivity_header)\n",
    "print(\"Los diferentes tipos de conectividad son:\")\n",
    "for i in tipos_conectividades:\n",
    "    print(f\"-{i}-\")"
   ]
  },
  {
   "cell_type": "markdown",
   "metadata": {},
   "source": [
    "### __Test inciso 10:__\n",
    "* Mostrar las cantidades de localidades con cada tipo de conectividad"
   ]
  },
  {
   "cell_type": "code",
   "execution_count": null,
   "metadata": {},
   "outputs": [],
   "source": [
    "connectivity_dict = tools4.show_connectivity_count(connectivity_header, connectivity_data)"
   ]
  },
  {
   "cell_type": "code",
   "execution_count": null,
   "metadata": {},
   "outputs": [],
   "source": [
    "for e in connectivity_dict.keys():\n",
    "    print(f\"La conectividad {e} esta disponible en {connectivity_dict[e]} localidades\")"
   ]
  },
  {
   "cell_type": "markdown",
   "metadata": {},
   "source": [
    "### __Test inciso 11:__\n",
    "* Mostrar las provincias para las cuales todas sus ciudades poseen FIBRA ÓPTICA."
   ]
  },
  {
   "cell_type": "code",
   "execution_count": null,
   "metadata": {},
   "outputs": [],
   "source": [
    "top_optic_fiber_province = tools4.top_optic_fiber_province(connectivity_data)\n",
    "\n",
    "print(f\"La/s provincia/s que poseen fibra optica en todas sus localidades es/son: {top_optic_fiber_province}\")"
   ]
  },
  {
   "cell_type": "markdown",
   "metadata": {},
   "source": [
    "### __Test inciso 12:__\n",
    "* Mostrar para cada provincia su capital y, si se conoce la información para dicha\n",
    "capital, informar si posee conectividad (campo 'posee_conectividad' creado\n",
    "previamente). En caso de no conocer la información mostrar el texto “conectividad\n",
    "desconocida”."
   ]
  },
  {
   "cell_type": "code",
   "execution_count": null,
   "metadata": {},
   "outputs": [],
   "source": [
    "capital_connectivity = tools4.get_capital_connectivity(connectivity_data, cities_data)\n",
    "\n",
    "import time\n",
    "\n",
    "inicio = time.time() # tiempo de inicio\n",
    "time.sleep(1)\n",
    "for e in capital_connectivity:\n",
    "    if e[2] != \"conectividad desconocida\":\n",
    "        print(f\"La ciudad {e[1]}, capital de la provincia de {e[0]}, {e[2]} posee conectividad\")\n",
    "    else:\n",
    "        print(f\"La ciudad {e[1]}, capital de la provincia de {e[0]}, tiene {e[2]}\")\n",
    "\n",
    "fin = time.time() # tiempo de finalizado\n",
    "print(fin-inicio) # fin - inicio = tiempo que tardó\n"
   ]
  },
  {
   "cell_type": "code",
   "execution_count": null,
   "metadata": {},
   "outputs": [],
   "source": []
  }
 ],
 "metadata": {
  "kernelspec": {
   "display_name": "venv",
   "language": "python",
   "name": "python3"
  },
  "language_info": {
   "codemirror_mode": {
    "name": "ipython",
    "version": 3
   },
   "file_extension": ".py",
   "mimetype": "text/x-python",
   "name": "python",
   "nbconvert_exporter": "python",
   "pygments_lexer": "ipython3",
   "version": "3.11.2"
  }
 },
 "nbformat": 4,
 "nbformat_minor": 2
}
