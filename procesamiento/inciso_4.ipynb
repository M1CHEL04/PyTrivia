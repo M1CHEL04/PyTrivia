{
 "cells": [
  {
   "cell_type": "markdown",
   "id": "18f59958-d728-449a-8e7d-14021c2014ff",
   "metadata": {},
   "source": [
    "# Importo librerias sugeridas por la materia\n"
   ]
  },
  {
   "cell_type": "markdown",
   "id": "575f21f1-a88f-42b3-b52d-6e3451580440",
   "metadata": {},
   "source": [
    "## En el entorno virtua instale jupyter, streamlit "
   ]
  },
  {
   "cell_type": "code",
   "execution_count": 1,
   "id": "49256c35-cd24-4add-8d06-6dd9d1d18a27",
   "metadata": {},
   "outputs": [],
   "source": [
    "from pathlib import Path"
   ]
  },
  {
   "cell_type": "markdown",
   "id": "24420af1-5e6c-4781-8d14-3e1da70da776",
   "metadata": {},
   "source": [
    "Verifico que encodificacion tengo"
   ]
  },
  {
   "cell_type": "code",
   "execution_count": 2,
   "id": "c1c0ab04-81d6-46e9-be57-94ec336ba0dc",
   "metadata": {},
   "outputs": [
    {
     "data": {
      "text/plain": [
       "('Spanish_Argentina', '1252')"
      ]
     },
     "execution_count": 2,
     "metadata": {},
     "output_type": "execute_result"
    }
   ],
   "source": [
    "import locale\n",
    "locale.getlocale()"
   ]
  },
  {
   "cell_type": "markdown",
   "id": "1e282257-8853-41aa-98ac-405ce8dc582a",
   "metadata": {},
   "source": [
    "### Ruta de los datasets"
   ]
  },
  {
   "cell_type": "code",
   "execution_count": 3,
   "id": "d3037e62-cfa6-4501-9963-91ea05e7fb6c",
   "metadata": {},
   "outputs": [],
   "source": [
    "data_route = Path(\"..\")/\"Datasets\"/\"c2022_tp_c_resumen_adaptado.csv\"\n",
    "city_route = Path(\"..\")/\"Datasets\"/\"ar.csv\""
   ]
  },
  {
   "cell_type": "markdown",
   "id": "eba73280-3a6e-415a-8d4c-9ac8c1d35747",
   "metadata": {},
   "source": [
    "Como no tengo UTF-8, lo especifico"
   ]
  },
  {
   "cell_type": "markdown",
   "id": "d086bb74",
   "metadata": {},
   "source": [
    "### Importo los modulos \"funciones_generales\" y \"tools_inciso_4\"\n",
    "Los cuales contienen todas las funciones a utilizar"
   ]
  },
  {
   "cell_type": "code",
   "execution_count": 4,
   "id": "536a67dc",
   "metadata": {},
   "outputs": [],
   "source": [
    "import funciones_generales as fg\n",
    "import tools_inciso_4 as tools"
   ]
  },
  {
   "cell_type": "markdown",
   "id": "e17f4a02",
   "metadata": {},
   "source": [
    "### Quito tildes de los datasets"
   ]
  },
  {
   "cell_type": "code",
   "execution_count": 5,
   "id": "94efcac3",
   "metadata": {},
   "outputs": [],
   "source": [
    "fg.sin_tildes_csv(data_route)\n",
    "fg.sin_tildes_csv(city_route)"
   ]
  },
  {
   "cell_type": "markdown",
   "id": "844768f0",
   "metadata": {},
   "source": [
    "### Apertura del dataset de poblaciones en modo lectura\n",
    "separo el header del resto de los datos"
   ]
  },
  {
   "cell_type": "code",
   "execution_count": 6,
   "id": "b049c876-73f1-4faf-8eb4-ef3270ff016d",
   "metadata": {},
   "outputs": [],
   "source": [
    "header = fg.leer_dataset(data_route)[0]\n",
    "data = fg.leer_dataset(data_route)[1]\n",
    "city_header = fg.leer_dataset(city_route)[0]\n",
    "city_data = fg.leer_dataset(city_route)[1]"
   ]
  },
  {
   "cell_type": "markdown",
   "id": "cedbbaa2-ad13-427a-8be0-26765764ce88",
   "metadata": {},
   "source": [
    "### Modifico cada elemento que contenga \"///\" o \"-\" por 0"
   ]
  },
  {
   "cell_type": "code",
   "execution_count": 7,
   "id": "172a62a7-563d-4f9f-8a94-ca5aece6897d",
   "metadata": {},
   "outputs": [],
   "source": [
    "tools.replace_value(data,['///','-'],'0')"
   ]
  },
  {
   "cell_type": "markdown",
   "id": "29ec28db-4e50-46ab-8de1-07fb90e7391a",
   "metadata": {},
   "source": [
    "### Realizo el porcentaje de cada fila y lo agrego a la nueva columna\n",
    "\n",
    "dejo comentado la excepción cuando en los numeros de poblacion en situacion de calle hay un 0\n",
    "\n",
    "Consultar que poner en esos casos. \"no hay datos\"?"
   ]
  },
  {
   "cell_type": "code",
   "execution_count": 8,
   "id": "e9bed970-a679-45ba-8a92-6905b7961e4a",
   "metadata": {},
   "outputs": [],
   "source": [
    "tools.generate_column_homeless_percentage(header,data)"
   ]
  },
  {
   "cell_type": "markdown",
   "id": "405f133b-53e5-4c83-86f4-bde419d85a0c",
   "metadata": {},
   "source": [
    "### Creo el archivo del dataset modificado"
   ]
  },
  {
   "cell_type": "code",
   "execution_count": 9,
   "id": "e079d6e8-d13d-4fdd-8d0c-3027fd6873e0",
   "metadata": {},
   "outputs": [],
   "source": [
    "data_route = Path(\"..\")/\"Datasets_Modificados\"/\"c2022_tp_c_resumen_adaptadoMODIF.csv\"\n",
    "city_route = Path(\"..\")/\"Datasets_Modificados\"/\"ar_cities_MODIF.csv\""
   ]
  },
  {
   "cell_type": "code",
   "execution_count": 10,
   "id": "105518e1-f7a5-4761-970a-d56a0ffee5b4",
   "metadata": {},
   "outputs": [],
   "source": [
    "fg.escribir_dataset(data_route,header,data)\n",
    "fg.escribir_dataset(city_route,city_header,city_data)"
   ]
  },
  {
   "cell_type": "markdown",
   "id": "c5b146a6",
   "metadata": {},
   "source": [
    "### Para la segunda parte de la entrega, utilizamos pandas para modificar el dataset a nuestro favor"
   ]
  },
  {
   "cell_type": "code",
   "execution_count": 11,
   "id": "e9b4d46a",
   "metadata": {},
   "outputs": [],
   "source": [
    "import pandas as pd\n",
    "df = pd.read_csv(data_route)\n",
    "\n",
    "new_df = tools.replace_missing_data(df)\n",
    "\n",
    "new_df.to_csv(data_route,index=False)"
   ]
  },
  {
   "cell_type": "code",
   "execution_count": null,
   "id": "67c699f8",
   "metadata": {},
   "outputs": [],
   "source": []
  }
 ],
 "metadata": {
  "kernelspec": {
   "display_name": "Python 3 (ipykernel)",
   "language": "python",
   "name": "python3"
  },
  "language_info": {
   "codemirror_mode": {
    "name": "ipython",
    "version": 3
   },
   "file_extension": ".py",
   "mimetype": "text/x-python",
   "name": "python",
   "nbconvert_exporter": "python",
   "pygments_lexer": "ipython3",
   "version": "3.11.2"
  }
 },
 "nbformat": 4,
 "nbformat_minor": 5
}
