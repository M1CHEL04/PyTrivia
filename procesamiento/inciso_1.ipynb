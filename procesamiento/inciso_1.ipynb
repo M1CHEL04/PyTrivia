{
 "cells": [
  {
   "cell_type": "markdown",
   "metadata": {},
   "source": [
    "### __Importo las librerias necesarias para el desarrollo de este notebook__"
   ]
  },
  {
   "cell_type": "code",
   "execution_count": 1,
   "metadata": {},
   "outputs": [],
   "source": [
    "from pathlib import Path"
   ]
  },
  {
   "cell_type": "markdown",
   "metadata": {},
   "source": [
    "Para la correcta realizacion del enunciado es necesario verificar que tipo de encoding uso, para esto es necesario importar una libreria externa.\n"
   ]
  },
  {
   "cell_type": "code",
   "execution_count": 2,
   "metadata": {},
   "outputs": [
    {
     "data": {
      "text/plain": [
       "('Spanish_United States', '1252')"
      ]
     },
     "execution_count": 2,
     "metadata": {},
     "output_type": "execute_result"
    }
   ],
   "source": [
    "import locale\n",
    "locale.getlocale()"
   ]
  },
  {
   "cell_type": "markdown",
   "metadata": {},
   "source": [
    "Para un correcto funcionamiento, es necesario poder usar un path que se apto para todo lugar donde se vaya a correr el programa por lo tanto, se desarrolllara de la siguiente manera.\n",
    "\n"
   ]
  },
  {
   "cell_type": "markdown",
   "metadata": {},
   "source": [
    "__Ruta del Dataset de aeropuetos__"
   ]
  },
  {
   "cell_type": "code",
   "execution_count": 3,
   "metadata": {},
   "outputs": [],
   "source": [
    "data_path_airports= Path(\"..\")/\"Datasets\"/\"ar-airports.csv\""
   ]
  },
  {
   "cell_type": "markdown",
   "metadata": {},
   "source": [
    "Dado que anterirormente habiamos visto que no tengo el encoding UTF-8, lo voy a especificar en la apertura del archivo"
   ]
  },
  {
   "cell_type": "markdown",
   "metadata": {},
   "source": [
    "##### Para una correcta implementacion, se desarrollo un archivo.py  llamado  __funciones_generales.py__ con funciones que se implementaran en todos los incisos de procesamiento. Lo importaremos a continuacion."
   ]
  },
  {
   "cell_type": "code",
   "execution_count": 4,
   "metadata": {},
   "outputs": [],
   "source": [
    "import funciones_generales as fg"
   ]
  },
  {
   "cell_type": "markdown",
   "metadata": {},
   "source": [
    "### __Remplazo de las letras con tildes__\n",
    "* Esto se hace para que posteriormente podamos llevar a cabo un correcto procesamiento de los datos. Todas las letras que poseen tilde, se remplazaran por su equivalente sin tilde."
   ]
  },
  {
   "cell_type": "code",
   "execution_count": 5,
   "metadata": {},
   "outputs": [],
   "source": [
    "fg.sin_tildes_csv(data_path_airports)"
   ]
  },
  {
   "cell_type": "markdown",
   "metadata": {},
   "source": [
    "__Apertura del dataset de aeropuertos en modo lectura__\n",
    "\n",
    "* Esto se hace con el fin de poder separar el header de los datos. "
   ]
  },
  {
   "cell_type": "code",
   "execution_count": 6,
   "metadata": {},
   "outputs": [],
   "source": [
    "header, data=fg.leer_dataset(data_path_airports)"
   ]
  },
  {
   "cell_type": "markdown",
   "metadata": {},
   "source": [
    "#### __Primera modificacion: generacion de columna elevation_name__\n",
    "\n",
    "Esta columna contiene datos cualitativos indicando la elevacion de cada aeropuerto, Pueden ser __alto__ ,__medio__ o __bajo__. Los criterios por los cuales se deciden estso grupos son:\n",
    "* __Bajo__: aeropuertos con elevacion menor o igual a 131 ft.\n",
    "* __Medio__: aeropuertos con elevacion mayor que 131 ft y menor o igual que 903 ft.\n",
    "* __Alto__: aeropuertos con elevacion mayor a 903 ft.\n",
    "\n",
    "En el caso de que no se halle la informacion para poder calcular lo siguiente, se pondra __-__ en lugar del nombre de elevacion."
   ]
  },
  {
   "cell_type": "markdown",
   "metadata": {},
   "source": [
    "Para una mejor organizacion y modularizacion, lo pedido por este inciso, se desarrollara en funciones especificas alojadas en un el archivo __tools_inciso_1.py__. \n",
    "\n",
    "A continuacion importaremos dicho modulo."
   ]
  },
  {
   "cell_type": "code",
   "execution_count": 7,
   "metadata": {},
   "outputs": [],
   "source": [
    "import tools_inciso_1 as tools"
   ]
  },
  {
   "cell_type": "markdown",
   "metadata": {},
   "source": [
    "##### __Modificaciones Parciales__\n",
    "\n",
    "* Guardo las modificaciones parciales (creacion de la columna elevation_name) del archivo en variables locales, para luego utilizar estas para realizarle la ultima modificacion al mismo."
   ]
  },
  {
   "cell_type": "code",
   "execution_count": 8,
   "metadata": {},
   "outputs": [],
   "source": [
    "partial_header, partial_data= tools.generate_column_Elevation_name(header,data)"
   ]
  },
  {
   "cell_type": "markdown",
   "metadata": {},
   "source": [
    "#### __Segunda modificacion: generacion de la columna prov_name__\n",
    "\n",
    "La segunda modificacion que le realizaremos al archivos de aeropuertos sera agregarle una columna llamada __prov_name__ la cual contiene el nombre de la provincia donde esta situado el aeropuerto. Dado el caso que no se halle la provincia para determinado aeropuerto, esa celda tendra el valor __prov_not_found__.\n",
    "\n",
    "* La informacion de las diferentes locaclidades de las provincias de Argenina la obtendremos de un dataset el que cual usaremos a continuacion."
   ]
  },
  {
   "cell_type": "markdown",
   "metadata": {},
   "source": [
    "__Ruta del Dataset de localidades de Argentina__"
   ]
  },
  {
   "cell_type": "code",
   "execution_count": 9,
   "metadata": {},
   "outputs": [],
   "source": [
    "data_path_ar= Path (\"..\")/\"Datasets\"/\"ar.csv\""
   ]
  },
  {
   "cell_type": "markdown",
   "metadata": {},
   "source": [
    "__Apertura del dataset de localidades de Argentina en modo lectura__\n",
    "\n",
    "* Esto se hace con el fin de poder separar el header de los datos del archivo."
   ]
  },
  {
   "cell_type": "code",
   "execution_count": 10,
   "metadata": {},
   "outputs": [],
   "source": [
    "header_ar, data_ar=fg.leer_dataset(data_path_ar)"
   ]
  },
  {
   "cell_type": "markdown",
   "metadata": {},
   "source": [
    "#### __Modificaciones finales__\n",
    "\n",
    "* Guardo las modificaciones anteriormente nombradas en variables, para luego poder escribirlas sobre el archivo final."
   ]
  },
  {
   "cell_type": "code",
   "execution_count": 11,
   "metadata": {},
   "outputs": [],
   "source": [
    "final_header, final_data=tools.generate_column_prov_name(partial_header,partial_data,header_ar,data_ar)"
   ]
  },
  {
   "cell_type": "markdown",
   "metadata": {},
   "source": [
    "__Ruta del dataset con las modificaciones aplicadas__"
   ]
  },
  {
   "cell_type": "code",
   "execution_count": 12,
   "metadata": {},
   "outputs": [],
   "source": [
    "data_path= Path(\"..\")/\"Datasets_Modificados\"/\"ar-airports_modificado.csv\""
   ]
  },
  {
   "cell_type": "markdown",
   "metadata": {},
   "source": [
    "#### Se escriben todas las modificaciones realizadas sobre el archivo en un nuevo archivo "
   ]
  },
  {
   "cell_type": "code",
   "execution_count": 13,
   "metadata": {},
   "outputs": [],
   "source": [
    "fg.escribir_dataset(data_path,final_header,final_data)"
   ]
  },
  {
   "cell_type": "markdown",
   "metadata": {},
   "source": [
    "## **2da parte de la entrega** ##\n",
    "* Para una correcta implementacion de un parte especifica del juego, se le borra a los datos de la columna \"region_name\" la palabra \"province\". Es decir si dice \"Buenos Aires province\", luego del procesamiento quedara \"Buenos Aires\"."
   ]
  },
  {
   "cell_type": "code",
   "execution_count": 14,
   "metadata": {},
   "outputs": [],
   "source": [
    "import pandas as pd\n",
    "\n",
    "df=pd.read_csv(data_path)\n",
    "\n",
    "df_copy= df.copy()\n",
    "\n",
    "    \n",
    "df_copy.region_name = df_copy.region_name.str.replace('Province','')\n",
    "df_copy.region_name = df_copy.region_name.str.replace('(Autonomous City)','')\n",
    "\n",
    "df_copy.to_csv(data_path,index= False)\n"
   ]
  },
  {
   "cell_type": "markdown",
   "metadata": {},
   "source": [
    "* Para una correcta funcionalidad de la "
   ]
  },
  {
   "cell_type": "code",
   "execution_count": 15,
   "metadata": {},
   "outputs": [],
   "source": [
    "df = pd.read_csv(data_path)\n",
    "\n",
    "new_df = df.copy()\n",
    "\n",
    "new_df= new_df[new_df['elevation_name'] != '-']\n",
    "\n",
    "new_df.to_csv(data_path,index= False)"
   ]
  }
 ],
 "metadata": {
  "kernelspec": {
   "display_name": "venv",
   "language": "python",
   "name": "python3"
  },
  "language_info": {
   "codemirror_mode": {
    "name": "ipython",
    "version": 3
   },
   "file_extension": ".py",
   "mimetype": "text/x-python",
   "name": "python",
   "nbconvert_exporter": "python",
   "pygments_lexer": "ipython3",
   "version": "3.11.8"
  }
 },
 "nbformat": 4,
 "nbformat_minor": 2
}
