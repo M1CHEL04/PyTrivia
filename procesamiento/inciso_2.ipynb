{
 "cells": [
  {
   "cell_type": "markdown",
   "metadata": {},
   "source": [
    "### <div style=\"text-align:center;\" >__Importo las librerias necesarias__</div>\n",
    "#### <div style=\"text-align:center;\" >__Tambien importo las funciones que voy usar para el funcionamiento del inciso__</div>"
   ]
  },
  {
   "cell_type": "code",
   "execution_count": null,
   "metadata": {},
   "outputs": [],
   "source": [
    "from pathlib import Path\n",
    "from funciones_generales import leer_dataset,escribir_dataset,sin_tildes_csv\n",
    "from tools_inciso_2 import reemplazar_caracter,generar_columna\n",
    "import tools_inciso_2 as tools"
   ]
  },
  {
   "cell_type": "markdown",
   "metadata": {},
   "source": [
    "#### <div style=\"text-align:center;\" >__Verifico el tipo de codificacion__</div>"
   ]
  },
  {
   "cell_type": "code",
   "execution_count": null,
   "metadata": {},
   "outputs": [],
   "source": [
    "import locale\n",
    "locale.getlocale()"
   ]
  },
  {
   "cell_type": "markdown",
   "metadata": {},
   "source": [
    "### <div style=\"text-align:center;\" >__Ruta donde se encuentra el data_set conectividad internet__</div>"
   ]
  },
  {
   "cell_type": "code",
   "execution_count": null,
   "metadata": {},
   "outputs": [],
   "source": [
    "data_set_conectividad_internet=Path(\"..\")/\"Datasets/Conectividad_Internet.csv\""
   ]
  },
  {
   "cell_type": "markdown",
   "metadata": {},
   "source": [
    "### <div style=\"text-align:center;\" >__Elimino las tildes en el data_set conectividad internet__</div>"
   ]
  },
  {
   "cell_type": "code",
   "execution_count": null,
   "metadata": {},
   "outputs": [],
   "source": [
    "sin_tildes_csv(data_set_conectividad_internet)"
   ]
  },
  {
   "cell_type": "markdown",
   "metadata": {},
   "source": [
    "#### <div style=\"text-align:center;\" >__Lectura del data_set conectividad internet__</div>"
   ]
  },
  {
   "cell_type": "code",
   "execution_count": null,
   "metadata": {},
   "outputs": [],
   "source": [
    "header,data=leer_dataset(data_set_conectividad_internet)"
   ]
  },
  {
   "cell_type": "markdown",
   "metadata": {},
   "source": [
    "##### <div style=\"text-align:center;\" >__Se realizará un reemplazo en las celdas que contengan el carácter '--' con la palabra 'NO'__</div>"
   ]
  },
  {
   "cell_type": "code",
   "execution_count": null,
   "metadata": {},
   "outputs": [],
   "source": [
    "data=tools.reemplazar_caracter(data)"
   ]
  },
  {
   "cell_type": "markdown",
   "metadata": {},
   "source": [
    "#### <div style=\"text-align:center;\" >__Se genera una nueva columna denominada 'posee_conectividad', la misma puede tomar uno de dos valores posibles: SÍ o NO__</div>\n",
    "##### <div style=\"text-align:center;\" >__El valor será NO si todos los campos ADSL, CABLEMODEM, DIALUP,FIBRAOPTICA, SATELITAL, WIRELESS, TELEFONIAFIJA, 3G y 4G poseen el valor 'NO'. Caso contrario el valor será 'SI'__</div>"
   ]
  },
  {
   "cell_type": "code",
   "execution_count": null,
   "metadata": {},
   "outputs": [],
   "source": [
    "header,data=tools. generar_columna(header,data)"
   ]
  },
  {
   "cell_type": "markdown",
   "metadata": {},
   "source": [
    "### <div style=\"text-align:center;\" >__Ruta donde genero el data_set conectividad internet modificado__</div>"
   ]
  },
  {
   "cell_type": "code",
   "execution_count": null,
   "metadata": {},
   "outputs": [],
   "source": [
    "data_set_conectividad_internet_modificado=Path('..')/\"Datasets_Modificados\"/\"Conectividad_Internet_modificado.csv\""
   ]
  },
  {
   "cell_type": "markdown",
   "metadata": {},
   "source": [
    "### <div style=\"text-align:center;\" >__Escritura en el data_set conectividad internet modificado__</div>"
   ]
  },
  {
   "cell_type": "code",
   "execution_count": null,
   "metadata": {},
   "outputs": [],
   "source": [
    "escribir_dataset(data_set_conectividad_internet_modificado,header,data)"
   ]
  },
  {
   "cell_type": "markdown",
   "metadata": {},
   "source": [
    "### <div style=\"text-align:center;\" >__2da Parte del Trabajo Practico Integrador__</div>"
   ]
  },
  {
   "cell_type": "markdown",
   "metadata": {},
   "source": [
    "* Para una correcta funcionalidad de la dificultad media del juego, se quitan las filas con valor 0 en la columna \"Poblacion\" del dataset."
   ]
  },
  {
   "cell_type": "code",
   "execution_count": null,
   "metadata": {},
   "outputs": [],
   "source": [
    "import pandas as pd\n",
    "\n",
    "df = pd.read_csv(data_set_conectividad_internet_modificado)\n",
    "\n",
    "df_copy = df.copy()\n",
    "\n",
    "df_copy = df_copy[df_copy['Poblacion'] != 0]\n",
    "\n",
    "df_copy.to_csv(data_set_conectividad_internet_modificado,index=False)"
   ]
  }
 ],
 "metadata": {
  "kernelspec": {
   "display_name": "Python 3",
   "language": "python",
   "name": "python3"
  },
  "language_info": {
   "codemirror_mode": {
    "name": "ipython",
    "version": 3
   },
   "file_extension": ".py",
   "mimetype": "text/x-python",
   "name": "python",
   "nbconvert_exporter": "python",
   "pygments_lexer": "ipython3",
   "version": "3.11.8"
  }
 },
 "nbformat": 4,
 "nbformat_minor": 2
}
