{
 "cells": [
  {
   "cell_type": "markdown",
   "metadata": {},
   "source": [
    "# Inciso C\n",
    "\n"
   ]
  },
  {
   "cell_type": "markdown",
   "metadata": {},
   "source": [
    "3. En el dataset de Lagos (C), se creará una nueva columna llamada 'Sup Tamaño'\n",
    "que contendrá datos cualitativos indicando el tamaño de cada lago en función de su\n",
    "superficie en kilómetros cuadrados (km²). Esta columna se completará con las\n",
    "palabras: \"chico\", \"medio\" o \"grande\", según los siguientes criterios:\n",
    "a. Lagos con una superficie menor o igual a 17 km² serán clasificados como\n",
    "\"chico\".\n",
    "b. Lagos con una superficie mayor que 17 km² y menor o igual a 59 km² serán\n",
    "clasificados como \"medio\".\n",
    "c. Lagos con una superficie mayor a 59 km² serán clasificados como \"grande\".\n",
    "Además de transformar el campo de coordenadas actual, que sigue el formato\n",
    "estándar de grados, minutos y segundos (GMS), por ejemplo, 42°9'3\"S 71°38'59\"O,\n",
    "en dos campos separados para la latitud y longitud, añade dos nuevos campos para\n",
    "representar la latitud y longitud en formato de grados decimales (GD). Asegúrate de\n",
    "proporcionar la conversión correcta de GMS a GD para ambos campos. En el\n",
    "ejemplo mencionado el valor resultante debería ser -42.150833 para la latitud y\n",
    "-71.649722 para la longitud."
   ]
  },
  {
   "cell_type": "markdown",
   "metadata": {},
   "source": [
    "### Importo librerias utilizadas en el codigo"
   ]
  },
  {
   "cell_type": "code",
   "execution_count": null,
   "metadata": {},
   "outputs": [],
   "source": [
    "from pathlib import Path\n",
    "import tools_inciso_3 as functions\n",
    "import funciones_generales"
   ]
  },
  {
   "cell_type": "markdown",
   "metadata": {},
   "source": [
    "### Ruta del Dataset "
   ]
  },
  {
   "cell_type": "markdown",
   "metadata": {},
   "source": [
    "Obtengo la direccion del dataset a trabajar."
   ]
  },
  {
   "cell_type": "code",
   "execution_count": null,
   "metadata": {},
   "outputs": [],
   "source": [
    "data_route = Path(\"..\")/\"Datasets\"/\"lagos_arg.csv\""
   ]
  },
  {
   "cell_type": "markdown",
   "metadata": {},
   "source": [
    "### Abro el Dataset"
   ]
  },
  {
   "cell_type": "markdown",
   "metadata": {},
   "source": [
    "Le saco los acentos al dataset para que no genere problemasen el futuro, por los acentos."
   ]
  },
  {
   "cell_type": "code",
   "execution_count": null,
   "metadata": {},
   "outputs": [],
   "source": [
    "funciones_generales.sin_tildes_csv(data_route)"
   ]
  },
  {
   "cell_type": "markdown",
   "metadata": {},
   "source": [
    "Lo abro en modo lectura, y obtengo el header del archivo, separandolo del resto de la informacion, especificando la decodificacion, en este caso \"UTF-8\""
   ]
  },
  {
   "cell_type": "code",
   "execution_count": null,
   "metadata": {},
   "outputs": [],
   "source": [
    "parts_dataset = funciones_generales.leer_dataset(data_route)\n",
    "\n",
    "header = parts_dataset[0]\n",
    "data = parts_dataset[1]\n",
    "\n"
   ]
  },
  {
   "cell_type": "markdown",
   "metadata": {},
   "source": [
    "Agrego la columna \"Sup Tamaño\", \"latitud\" y \"longitud\" al archivo csv."
   ]
  },
  {
   "cell_type": "code",
   "execution_count": null,
   "metadata": {},
   "outputs": [],
   "source": [
    "header.append(\"Sup Tamaño\")\n",
    "header.append(\"latitud\")\n",
    "header.append(\"longitud\")\n",
    "\n",
    "header"
   ]
  },
  {
   "cell_type": "markdown",
   "metadata": {},
   "source": [
    "Agrego tres columnas vacias a la data del archivo .csv"
   ]
  },
  {
   "cell_type": "code",
   "execution_count": null,
   "metadata": {},
   "outputs": [],
   "source": [
    "for row  in data:\n",
    "    row.append('')\n",
    "    row.append('')\n",
    "    row.append('')"
   ]
  },
  {
   "cell_type": "markdown",
   "metadata": {},
   "source": [
    "### Ruta donde se va a guardar el Dataset Modificado"
   ]
  },
  {
   "cell_type": "code",
   "execution_count": null,
   "metadata": {},
   "outputs": [],
   "source": [
    "data_modified_route = Path(\"..\")/\"Datasets_Modificados\"/\"lagos_arg_MODIF.csv\""
   ]
  },
  {
   "cell_type": "markdown",
   "metadata": {},
   "source": [
    "Invoco a la funcion sup_size la cual evalua la superficie en km2 de los lagos y segun su superficie los etiqueta como \"chico\", \"medio\" y \"grande\".\n",
    "\n",
    "Luego, llamo a la funcion mod_coordinates, que modifica los valores de una coordenada en gms(Grados, Minutos y Segundos) a una en gd(Grados Decimales)"
   ]
  },
  {
   "cell_type": "markdown",
   "metadata": {},
   "source": [
    "Invoco a la funcion, escribit_dataset, con la direccion donde se va a crear y almacenar el csv, el header modificado y la data modificada, del modulo funciones_generales, la cual va a escribir la informacion modificada en el archivo anteriormente creado."
   ]
  },
  {
   "cell_type": "code",
   "execution_count": null,
   "metadata": {},
   "outputs": [],
   "source": [
    "\n",
    "data_mod = functions.sup_size(header,data)\n",
    "funciones_generales.escribir_dataset(data_modified_route, header, data_mod)\n",
    "data_mod = functions.mod_coordinates(header,data)\n",
    "funciones_generales.escribir_dataset(data_modified_route, header, data_mod)\n"
   ]
  }
 ],
 "metadata": {
  "kernelspec": {
   "display_name": "venv",
   "language": "python",
   "name": "python3"
  },
  "language_info": {
   "codemirror_mode": {
    "name": "ipython",
    "version": 3
   },
   "file_extension": ".py",
   "mimetype": "text/x-python",
   "name": "python",
   "nbconvert_exporter": "python",
   "pygments_lexer": "ipython3",
   "version": "3.11.8"
  }
 },
 "nbformat": 4,
 "nbformat_minor": 2
}
